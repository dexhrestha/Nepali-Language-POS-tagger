{
 "cells": [
  {
   "cell_type": "code",
   "execution_count": 1,
   "metadata": {},
   "outputs": [],
   "source": [
    "with open('dataset/article_dump.txt') as a:\n",
    "    articles = a.read().splitlines()\n",
    "    \n",
    "from nlp_processor import Tokenizer, Stemmer\n",
    "import re"
   ]
  },
  {
   "cell_type": "code",
   "execution_count": 2,
   "metadata": {
    "scrolled": true
   },
   "outputs": [],
   "source": [
    "tokenizer = Tokenizer()\n",
    "stemmer = Stemmer()"
   ]
  },
  {
   "cell_type": "code",
   "execution_count": 3,
   "metadata": {},
   "outputs": [
    {
     "data": {
      "text/plain": [
       "1000"
      ]
     },
     "execution_count": 3,
     "metadata": {},
     "output_type": "execute_result"
    }
   ],
   "source": [
    "len(articles)"
   ]
  },
  {
   "cell_type": "code",
   "execution_count": 4,
   "metadata": {},
   "outputs": [
    {
     "data": {
      "text/plain": [
       "['अमेरिकी',\n",
       " 'प्रख्यात',\n",
       " 'कूटनीतिज्ञ',\n",
       " 'हेनरी',\n",
       " 'किसिन्जरले',\n",
       " 'आफ्नो',\n",
       " 'किताब',\n",
       " 'बल्र्ड',\n",
       " 'अडर',\n",
       " 'मा']"
      ]
     },
     "execution_count": 4,
     "metadata": {},
     "output_type": "execute_result"
    }
   ],
   "source": [
    "tokenized_corpus = tokenizer.tokenize_corpus(articles)\n",
    "tokenized_corpus[0][0:10]"
   ]
  },
  {
   "cell_type": "code",
   "execution_count": 5,
   "metadata": {},
   "outputs": [
    {
     "data": {
      "text/plain": [
       "['अमेरिक',\n",
       " 'प्रख्यात',\n",
       " 'कुटनीतिज्ञ',\n",
       " 'हेनर',\n",
       " 'किसिन्जर',\n",
       " 'आफ्नो',\n",
       " 'किताब',\n",
       " 'बल्र्ड',\n",
       " 'अडर',\n",
       " 'मा']"
      ]
     },
     "execution_count": 5,
     "metadata": {},
     "output_type": "execute_result"
    }
   ],
   "source": [
    "stemmed_corpus = stemmer.stem_corpus(tokenized_corpus)\n",
    "stemmed_corpus[0][0:10]"
   ]
  },
  {
   "cell_type": "code",
   "execution_count": 8,
   "metadata": {},
   "outputs": [],
   "source": [
    "from gensim.models import Word2Vec as w2v\n",
    "import multiprocessing"
   ]
  },
  {
   "cell_type": "code",
   "execution_count": 10,
   "metadata": {},
   "outputs": [],
   "source": [
    "nep2vec = w2v(stemmed_corpus, \n",
    "                       size=300, \n",
    "                       window=8, \n",
    "                       min_count=2, \n",
    "                       workers= multiprocessing.cpu_count())"
   ]
  },
  {
   "cell_type": "code",
   "execution_count": 12,
   "metadata": {},
   "outputs": [
    {
     "data": {
      "text/plain": [
       "(10005637, 11447100)"
      ]
     },
     "execution_count": 12,
     "metadata": {},
     "output_type": "execute_result"
    }
   ],
   "source": [
    "nep2vec.train(stemmed_corpus, total_examples=len(stemmed_corpus), epochs=50)"
   ]
  },
  {
   "cell_type": "code",
   "execution_count": 19,
   "metadata": {},
   "outputs": [
    {
     "data": {
      "text/plain": [
       "[('तर्जु', 0.7358382344245911),\n",
       " ('कार्यक्रम', 0.7131359577178955),\n",
       " ('योजना', 0.6162781715393066),\n",
       " ('बजेट', 0.5870338678359985),\n",
       " ('प्रतिबद्', 0.5835362672805786),\n",
       " ('नीत', 0.5546680688858032),\n",
       " ('कार्ययोजना', 0.553807258605957),\n",
       " ('कार्यान्व', 0.5464102625846863),\n",
       " ('कार्यवि', 0.5304504036903381),\n",
       " ('अनुगमन', 0.5304062962532043)]"
      ]
     },
     "execution_count": 19,
     "metadata": {},
     "output_type": "execute_result"
    }
   ],
   "source": [
    "nep2vec.wv.most_similar(positive=stemmer.stem_word('कार्यक्रम'))"
   ]
  },
  {
   "cell_type": "code",
   "execution_count": null,
   "metadata": {},
   "outputs": [],
   "source": [
    "# nep2vec.save('w2vmodel')"
   ]
  }
 ],
 "metadata": {
  "kernelspec": {
   "display_name": "Python 3",
   "language": "python",
   "name": "python3"
  },
  "language_info": {
   "codemirror_mode": {
    "name": "ipython",
    "version": 3
   },
   "file_extension": ".py",
   "mimetype": "text/x-python",
   "name": "python",
   "nbconvert_exporter": "python",
   "pygments_lexer": "ipython3",
   "version": "3.6.8"
  }
 },
 "nbformat": 4,
 "nbformat_minor": 2
}
