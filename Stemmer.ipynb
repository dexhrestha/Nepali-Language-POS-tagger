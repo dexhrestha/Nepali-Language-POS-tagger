{
 "cells": [
  {
   "cell_type": "code",
   "execution_count": 1,
   "metadata": {
    "collapsed": true
   },
   "outputs": [],
   "source": [
    "#get suffix I\n",
    "with open('utils/suffixI.txt','r',encoding='utf-8') as f:\n",
    "    suffixI = f.read()\n",
    "suffixI = suffixI.strip().split('\\n')"
   ]
  },
  {
   "cell_type": "code",
   "execution_count": 2,
   "metadata": {
    "collapsed": true
   },
   "outputs": [],
   "source": [
    "#get suffix II\n",
    "with open('utils/suffixII.txt','r',encoding='utf-8') as f:\n",
    "    suffixII = f.read()\n",
    "suffixII = suffixII.strip().split('\\n')\n",
    "suffixII = [x.strip() for x in suffixII]"
   ]
  },
  {
   "cell_type": "code",
   "execution_count": 3,
   "metadata": {
    "collapsed": true
   },
   "outputs": [],
   "source": [
    "#get exception I\n",
    "with open('utils/execptionI.txt','r',encoding='utf-8') as f:\n",
    "    execptionI = f.read()\n",
    "exceptionI = execptionI.strip().split('\\n')"
   ]
  },
  {
   "cell_type": "code",
   "execution_count": 4,
   "metadata": {
    "collapsed": true
   },
   "outputs": [],
   "source": [
    "def remove_suffixI(word):\n",
    "    if word in exceptionI:\n",
    "        return word\n",
    "    else:\n",
    "        tempSuffix = []\n",
    "        for x in suffixI:\n",
    "            if x in word:\n",
    "                tempSuffix.append(x)\n",
    "#         print(tempSuffix)\n",
    "        if len(tempSuffix) > 1:\n",
    "#             print('more suff')\n",
    "            return iterativeStem(tempSuffix,word)\n",
    "        elif len(tempSuffix) == 1:\n",
    "#             print('single suff')\n",
    "            return word[:-len(tempSuffix[0])]\n",
    "        else:\n",
    "#             print('no suff')\n",
    "            return word"
   ]
  },
  {
   "cell_type": "code",
   "execution_count": 5,
   "metadata": {
    "collapsed": true
   },
   "outputs": [],
   "source": [
    "def iterativeStem(suffList,word):\n",
    "    for x in range(len(suffList)):\n",
    "        if not word.endswith(suffList[x]) and x==len(suffList[x])-1:\n",
    "#             print('stem')\n",
    "            return word\n",
    "        elif word.endswith(suffList[x]):\n",
    "#             print('stem')\n",
    "            word = word[:-len(suffList[x])]\n",
    "            return iterativeStem(suffList,word)\n",
    "        else: \n",
    "            continue\n",
    "    return word"
   ]
  },
  {
   "cell_type": "code",
   "execution_count": 6,
   "metadata": {
    "collapsed": true
   },
   "outputs": [],
   "source": [
    "\n",
    "def normalize(word):\n",
    "    normRules = {\n",
    "    'ई' : 'इ',\n",
    "    '◌ी':'ि',\n",
    "    'ऊ':'उ',\n",
    "    'ू':'ु',\n",
    "    'व':'ब',\n",
    "    'श':'स',\n",
    "    'ष':'स',\n",
    "    'ँ':''\n",
    "}\n",
    "    \n",
    "    wlist = [x for x in word]\n",
    "    for x in wlist:\n",
    "        tstr = ''\n",
    "        if x in normRules.keys():\n",
    "#             print('inside')\n",
    "            i = word.index(x)\n",
    "            wlist[i] = normRules[x]\n",
    "            \n",
    "            for a in wlist:\n",
    "                tstr = tstr+a\n",
    "            return normalize(tstr)\n",
    "    if tstr == '':\n",
    "        return word\n",
    "    else:\n",
    "        return tstr\n",
    "    "
   ]
  },
  {
   "cell_type": "code",
   "execution_count": 7,
   "metadata": {
    "collapsed": true
   },
   "outputs": [],
   "source": [
    "# normalize('ईकाऊनी')"
   ]
  },
  {
   "cell_type": "code",
   "execution_count": 8,
   "metadata": {
    "collapsed": true
   },
   "outputs": [],
   "source": [
    "def remove_suffixII(word):\n",
    "    word = normalize(word)\n",
    "    tSuff = []\n",
    "    probab = []\n",
    "    for x in suffixII:\n",
    "        if x in word:\n",
    "            tSuff.append(x)\n",
    "#     print(tSuff) #interested candidate\n",
    "    for x in tSuff:\n",
    "        if word.endswith(x):\n",
    "            #needs to be fixed ... try different approaches\n",
    "#             i = word.find(x)-len(x)-1\n",
    "            d = len(word)-word.find(x)\n",
    "##WHy??? - > ans :\n",
    "#d = len(word)-word.find('हु')\n",
    "#word[:-d-len('हु')]\n",
    "            if len(word[:-d-(len(x)-1)])  >= 2 :\n",
    "#                 print('stripped')\n",
    "#                 print(x)\n",
    "                tword = word[:-d-(len(x)-1)]\n",
    "                probab.append(tword)\n",
    "#                 print(probab)\n",
    "            else:\n",
    "                tSuff.remove(x)\n",
    "                continue\n",
    "            if tword == None or tword == word:\n",
    "                return word\n",
    "    try:\n",
    "        print(probab)\n",
    "#         l = probab[0]\n",
    "#         for x in probab:\n",
    "#             if len(x) < l:\n",
    "#                 l = len[x]\n",
    "#         return l\n",
    "        return probab[0]\n",
    "    except:\n",
    "        return word\n",
    "    \n",
    "    "
   ]
  },
  {
   "cell_type": "code",
   "execution_count": 9,
   "metadata": {
    "collapsed": true
   },
   "outputs": [],
   "source": [
    "def stem_word(word):\n",
    "    word=word.strip()\n",
    "    tword = remove_suffixI(word)\n",
    "    if tword == word:\n",
    "#         print(tword)\n",
    "        \n",
    "        word = remove_suffixII(tword)\n",
    "        return word\n",
    "    return tword"
   ]
  },
  {
   "cell_type": "code",
   "execution_count": 10,
   "metadata": {},
   "outputs": [
    {
     "name": "stdout",
     "output_type": "stream",
     "text": [
      "[]\n"
     ]
    },
    {
     "data": {
      "text/plain": [
       "'२६'"
      ]
     },
     "execution_count": 10,
     "metadata": {},
     "output_type": "execute_result"
    }
   ],
   "source": [
    "word = '२६'\n",
    "a = stem_word(word)\n",
    "# d = -(len(word)-word.find('ाइ')) -len('ाइ')+1\n",
    "# word[:-d]\n",
    "a"
   ]
  },
  {
   "cell_type": "code",
   "execution_count": 5,
   "metadata": {
    "scrolled": false
   },
   "outputs": [],
   "source": [
    "from Stemmer import Stemmer"
   ]
  },
  {
   "cell_type": "code",
   "execution_count": null,
   "metadata": {
    "collapsed": true
   },
   "outputs": [],
   "source": []
  },
  {
   "cell_type": "code",
   "execution_count": 17,
   "metadata": {},
   "outputs": [
    {
     "name": "stdout",
     "output_type": "stream",
     "text": [
      "मेर\n",
      "नाम\n",
      "दिपेस\n",
      "हो\n",
      "होइ\n",
      "गर\n",
      "गर्दि\n",
      "अमेरिक\n",
      "छै\n"
     ]
    }
   ],
   "source": [
    "stemmer = Stemmer()\n",
    "w = 'मेरो नाम दिपेश हो होइन गर्छु गर्दिन अमेरिका छैन'\n",
    "w = w.split(' ')\n",
    "for x in w:\n",
    "    print(stemmer.stem_word(x))\n",
    "# stemmer.stem_word('मेरो नाम दिपेश हो')"
   ]
  },
  {
   "cell_type": "code",
   "execution_count": null,
   "metadata": {
    "collapsed": true
   },
   "outputs": [],
   "source": []
  },
  {
   "cell_type": "code",
   "execution_count": null,
   "metadata": {
    "collapsed": true
   },
   "outputs": [],
   "source": []
  }
 ],
 "metadata": {
  "kernelspec": {
   "display_name": "Python 3",
   "language": "python",
   "name": "python3"
  },
  "language_info": {
   "codemirror_mode": {
    "name": "ipython",
    "version": 3
   },
   "file_extension": ".py",
   "mimetype": "text/x-python",
   "name": "python",
   "nbconvert_exporter": "python",
   "pygments_lexer": "ipython3",
   "version": "3.6.8"
  }
 },
 "nbformat": 4,
 "nbformat_minor": 2
}
