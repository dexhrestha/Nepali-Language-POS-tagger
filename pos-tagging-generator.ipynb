{
 "cells": [
  {
   "cell_type": "code",
   "execution_count": 1,
   "metadata": {},
   "outputs": [],
   "source": [
    "import numpy as np\n",
    "import pandas as pd"
   ]
  },
  {
   "cell_type": "code",
   "execution_count": 2,
   "metadata": {},
   "outputs": [
    {
     "name": "stdout",
     "output_type": "stream",
     "text": [
      "Found 2177 csv files in output\n"
     ]
    }
   ],
   "source": [
    "from pathlib import Path\n",
    "DATASET_DIR = \"output\"\n",
    "data_list = list(Path(DATASET_DIR).rglob(\"*.[cC][sS][vV]\"))\n",
    "print(\"Found {0} csv files in {1}\".format(len(data_list), DATASET_DIR))"
   ]
  },
  {
   "cell_type": "code",
   "execution_count": 3,
   "metadata": {},
   "outputs": [],
   "source": [
    "SEQ_LENGTH = 100\n",
    "def get_total_data_length(d_list):\n",
    "    tot = 0\n",
    "    for path in d_list:\n",
    "        df = pd.read_csv(path)\n",
    "        df = df[[\"tags\",\"words\"]]\n",
    "        for t, w in zip(df[\"tags\"], df[\"words\"]):\n",
    "            sentences = w.split(\"#\") \n",
    "            if(len(sentences) > SEQ_LENGTH):\n",
    "                continue\n",
    "            \n",
    "            tot = tot + 1\n",
    "    return tot"
   ]
  },
  {
   "cell_type": "code",
   "execution_count": 4,
   "metadata": {},
   "outputs": [
    {
     "data": {
      "text/plain": [
       "5627"
      ]
     },
     "execution_count": 4,
     "metadata": {},
     "output_type": "execute_result"
    }
   ],
   "source": [
    "get_total_data_length(data_list[:50])"
   ]
  },
  {
   "cell_type": "code",
   "execution_count": 4,
   "metadata": {},
   "outputs": [],
   "source": [
    "# remember to make it a class in the library of nlp_preprocessor\n",
    "TAGSET_URL = \"tagset.txt\"\n",
    "t_l = ['M','F','O','X']\n",
    "with open(TAGSET_URL, 'r') as t:\n",
    "    tagsets = t.read().split('\\n')\n",
    "    tagsets = set(list(map(lambda x:x[:3],tagsets))) #reduce to 3chars\n",
    "    tagsets = set(list(map(lambda x:x[:-1] if (len(x)>2 and x[-1]) in t_l else x,tagsets))) #reduce M,F,X,O\n",
    "    \n",
    "# zeros are special\n",
    "ts_sc_num2tags = { i + 1  : tags for i, tags in enumerate(tagsets) }\n",
    "ts_sc_tags2num = { tags: i + 1 for i, tags in enumerate(tagsets) }\n",
    "\n",
    "def tags_encode(t_in, source, seq_length):\n",
    "    t_in = set(list(map(lambda x:x[:3],t_in))) #reduce to 3chars\n",
    "    t_in = set(list(map(lambda x:x[:-1] if (len(x)>2 and x[-1]) in t_l else x,t_in))) #reduce M,F,X,O\n",
    "    op_data = np.zeros(seq_length)\n",
    "    for i, tags in enumerate(t_in):\n",
    "        if i < seq_length:\n",
    "            try:\n",
    "                op_data[i] = source[tags]\n",
    "            except KeyError:\n",
    "                continue\n",
    "    return op_data\n",
    "\n",
    "def tags_decode(t_in, source):\n",
    "    dec_data = []\n",
    "    for tags in t_in:\n",
    "        if (tags != 0.0):\n",
    "            dec_data.append(source[tags])\n",
    "    return dec_data"
   ]
  },
  {
   "cell_type": "code",
   "execution_count": 5,
   "metadata": {},
   "outputs": [
    {
     "data": {
      "text/plain": [
       "['NP']"
      ]
     },
     "execution_count": 5,
     "metadata": {},
     "output_type": "execute_result"
    }
   ],
   "source": [
    "tags_decode(tags_encode(['KML', 'NP'], ts_sc_tags2num, 100), ts_sc_num2tags)\n"
   ]
  },
  {
   "cell_type": "code",
   "execution_count": 6,
   "metadata": {},
   "outputs": [],
   "source": [
    "from gensim.models import Word2Vec as w2v\n",
    "from nlp_processor import NepaliStemmer\n",
    "SEQUENCE_LENGTH = 100\n",
    "FEATURE_LENGTH = 100\n",
    "nep2vec = w2v.load('nep2vec_snowball_stemmer.model')\n",
    "nepali_stemmer = NepaliStemmer()\n",
    "\n",
    "def words_encode(words):\n",
    "    stemmed_words = [words]\n",
    "    stemmed_words = nepali_stemmer.stem_corpus([words])\n",
    "    X = np.zeros([SEQUENCE_LENGTH, FEATURE_LENGTH])\n",
    "    for k, token in enumerate(stemmed_words[0]):\n",
    "        if(token in nep2vec.wv.vocab):\n",
    "            index = k\n",
    "            if index >= SEQUENCE_LENGTH:\n",
    "                continue\n",
    "            X[index] = nep2vec.wv[token]\n",
    "    X = X.reshape(1, SEQUENCE_LENGTH, FEATURE_LENGTH)\n",
    "    return X"
   ]
  },
  {
   "cell_type": "code",
   "execution_count": 7,
   "metadata": {},
   "outputs": [
    {
     "name": "stdout",
     "output_type": "stream",
     "text": [
      "Train Data Sentences #: 2465\n",
      "Test Data Sentences #: 1753\n"
     ]
    }
   ],
   "source": [
    "import random\n",
    "from tensorflow.keras.utils import to_categorical\n",
    "\n",
    "\n",
    "random.shuffle(data_list)\n",
    "\n",
    "# x = int(len(data_list) * 0.8)\n",
    "\n",
    "train_data_list = data_list[:10]\n",
    "test_data_list = data_list[10:12]\n",
    "\n",
    "train_data_length = get_total_data_length(train_data_list)\n",
    "test_data_length = get_total_data_length(test_data_list)\n",
    "\n",
    "print(\"Train Data Sentences #: {0}\".format(train_data_length))\n",
    "print(\"Test Data Sentences #: {0}\".format(test_data_length))\n",
    "\n",
    "SEQ_LENGTH = 100\n",
    "\n",
    "def make_generator(d_list, print_data=False):\n",
    "    for path in d_list:\n",
    "        df = pd.read_csv(path)\n",
    "        df = df[[\"tags\",\"words\"]]\n",
    "        for t, w in zip(df[\"tags\"], df[\"words\"]):\n",
    "            tags = t.split(\"#\")\n",
    "            sentences = w.split(\"#\")\n",
    "            \n",
    "            if(len(sentences) > SEQ_LENGTH):\n",
    "                continue\n",
    "                \n",
    "            if print_data is True:\n",
    "                print(sentences, tags)\n",
    "            e_sentences = words_encode(sentences).reshape(1, SEQ_LENGTH, FEATURE_LENGTH)\n",
    "            e_tags = tags_encode(tags, ts_sc_tags2num, SEQ_LENGTH)\n",
    "            e_tags = to_categorical(e_tags, num_classes=len(tagsets)+1).reshape(1, SEQ_LENGTH, len(tagsets)+1)\n",
    "            \n",
    "            \n",
    "            yield e_sentences, e_tags"
   ]
  },
  {
   "cell_type": "code",
   "execution_count": 8,
   "metadata": {},
   "outputs": [
    {
     "name": "stdout",
     "output_type": "stream",
     "text": [
      "(1, 100, 100) (1, 100, 65)\n"
     ]
    }
   ],
   "source": [
    "for s, t in make_generator(train_data_list):\n",
    "    print(s.shape, t.shape)\n",
    "    break"
   ]
  },
  {
   "cell_type": "code",
   "execution_count": 34,
   "metadata": {
    "scrolled": true
   },
   "outputs": [
    {
     "name": "stdout",
     "output_type": "stream",
     "text": [
      "_________________________________________________________________\n",
      "Layer (type)                 Output Shape              Param #   \n",
      "=================================================================\n",
      "input_layer (InputLayer)     (None, 100, 100)          0         \n",
      "_________________________________________________________________\n",
      "bi_lstm_1 (Bidirectional)    (None, 100, 200)          160800    \n",
      "_________________________________________________________________\n",
      "dropout_8 (Dropout)          (None, 100, 200)          0         \n",
      "_________________________________________________________________\n",
      "td_dense (TimeDistributed)   (None, 100, 65)           13065     \n",
      "_________________________________________________________________\n",
      "activation_layer (Activation (None, 100, 65)           0         \n",
      "=================================================================\n",
      "Total params: 173,865\n",
      "Trainable params: 173,865\n",
      "Non-trainable params: 0\n",
      "_________________________________________________________________\n"
     ]
    }
   ],
   "source": [
    "from tensorflow.keras.layers import Dense, Bidirectional, LSTM, Input, Dropout, TimeDistributed, Activation, Masking\n",
    "from tensorflow.keras.models import Model\n",
    "\n",
    "LSTM_SHAPE = 100\n",
    "# try 2 layer lstms \n",
    "input_data = Input(shape=(100,100), name=\"input_layer\")\n",
    "y = Masking()(input_data)\n",
    "y = Bidirectional(LSTM(LSTM_SHAPE, return_sequences=True, activation='tanh',recurrent_activation='sigmoid', name=\"lstm_layer_1\"), name=\"bi_lstm_1\")(input_data)\n",
    "y = Dropout(0.5)(y)\n",
    "# y = Bidirectional(LSTM(LSTM_SHAPE, return_sequences=True, activation='tanh',recurrent_activation='sigmoid', name=\"lstm_layer_2\"), name=\"bi_lstm_2\")(y)\n",
    "# y = Dropout(0.5)(y)\n",
    "y = TimeDistributed(Dense(len(tagsets)+1, name=\"dense_layer\"), name=\"td_dense\")(y)\n",
    "output_data = Activation('softmax', name=\"activation_layer\")(y)\n",
    "\n",
    "model = Model([input_data], [output_data])\n",
    "model.compile(loss='categorical_crossentropy', optimizer='adam', metrics=['accuracy'])\n",
    "model.summary()"
   ]
  },
  {
   "cell_type": "code",
   "execution_count": 54,
   "metadata": {},
   "outputs": [],
   "source": [
    "input_data = Input(shape=(1,100))\n",
    "ya = Bidirectional(LSTM(LSTM_SHAPE, return_sequences=True, activation='tanh',recurrent_activation='sigmoid'))(input_data)\n",
    "ya = Dense(3)(ya)\n",
    "output_data = Activation('softmax', name=\"activation_layer\")(ya)\n",
    "model1 = Model([input_data], [output_data])"
   ]
  },
  {
   "cell_type": "code",
   "execution_count": 35,
   "metadata": {},
   "outputs": [],
   "source": [
    "model.load_weights('model.h5')"
   ]
  },
  {
   "cell_type": "code",
   "execution_count": 15,
   "metadata": {},
   "outputs": [],
   "source": [
    "from tensorflow.keras.callbacks import ModelCheckpoint\n",
    "\n",
    "# checkpoints\n",
    "filepath=\"weights.best.hdf5\"\n",
    "checkpoint = ModelCheckpoint(filepath, monitor='val_acc', verbose=1, save_best_only=True, mode='max')\n",
    "callbacks_list = [checkpoint] "
   ]
  },
  {
   "cell_type": "code",
   "execution_count": 16,
   "metadata": {
    "scrolled": false
   },
   "outputs": [
    {
     "name": "stdout",
     "output_type": "stream",
     "text": [
      "WARNING:tensorflow:From /home/dexhrestha/anaconda3/envs/tf-cpu/lib/python3.6/site-packages/tensorflow/python/ops/math_ops.py:3066: to_int32 (from tensorflow.python.ops.math_ops) is deprecated and will be removed in a future version.\n",
      "Instructions for updating:\n",
      "Use tf.cast instead.\n",
      "WARNING:tensorflow:From /home/dexhrestha/anaconda3/envs/tf-cpu/lib/python3.6/site-packages/tensorflow/python/ops/math_grad.py:102: div (from tensorflow.python.ops.math_ops) is deprecated and will be removed in a future version.\n",
      "Instructions for updating:\n",
      "Deprecated in favor of operator or tf.math.divide.\n",
      " 407/2465 [===>..........................] - ETA: 23:52 - loss: 0.4714 - acc: 0.9035"
     ]
    },
    {
     "ename": "KeyboardInterrupt",
     "evalue": "",
     "output_type": "error",
     "traceback": [
      "\u001b[0;31m---------------------------------------------------------------------------\u001b[0m",
      "\u001b[0;31mKeyboardInterrupt\u001b[0m                         Traceback (most recent call last)",
      "\u001b[0;32m<ipython-input-16-b3178eb58a49>\u001b[0m in \u001b[0;36m<module>\u001b[0;34m\u001b[0m\n\u001b[1;32m      6\u001b[0m                     \u001b[0mvalidation_data\u001b[0m \u001b[0;34m=\u001b[0m \u001b[0mvalidation_data_gen\u001b[0m\u001b[0;34m,\u001b[0m\u001b[0;34m\u001b[0m\u001b[0;34m\u001b[0m\u001b[0m\n\u001b[1;32m      7\u001b[0m                     \u001b[0mvalidation_steps\u001b[0m\u001b[0;34m=\u001b[0m\u001b[0mtest_data_length\u001b[0m\u001b[0;34m,\u001b[0m\u001b[0;34m\u001b[0m\u001b[0;34m\u001b[0m\u001b[0m\n\u001b[0;32m----> 8\u001b[0;31m                     callbacks=callbacks_list)\n\u001b[0m",
      "\u001b[0;32m~/anaconda3/envs/tf-cpu/lib/python3.6/site-packages/tensorflow/python/keras/engine/training.py\u001b[0m in \u001b[0;36mfit_generator\u001b[0;34m(self, generator, steps_per_epoch, epochs, verbose, callbacks, validation_data, validation_steps, class_weight, max_queue_size, workers, use_multiprocessing, shuffle, initial_epoch)\u001b[0m\n\u001b[1;32m   1424\u001b[0m         \u001b[0muse_multiprocessing\u001b[0m\u001b[0;34m=\u001b[0m\u001b[0muse_multiprocessing\u001b[0m\u001b[0;34m,\u001b[0m\u001b[0;34m\u001b[0m\u001b[0;34m\u001b[0m\u001b[0m\n\u001b[1;32m   1425\u001b[0m         \u001b[0mshuffle\u001b[0m\u001b[0;34m=\u001b[0m\u001b[0mshuffle\u001b[0m\u001b[0;34m,\u001b[0m\u001b[0;34m\u001b[0m\u001b[0;34m\u001b[0m\u001b[0m\n\u001b[0;32m-> 1426\u001b[0;31m         initial_epoch=initial_epoch)\n\u001b[0m\u001b[1;32m   1427\u001b[0m \u001b[0;34m\u001b[0m\u001b[0m\n\u001b[1;32m   1428\u001b[0m   def evaluate_generator(self,\n",
      "\u001b[0;32m~/anaconda3/envs/tf-cpu/lib/python3.6/site-packages/tensorflow/python/keras/engine/training_generator.py\u001b[0m in \u001b[0;36mmodel_iteration\u001b[0;34m(model, data, steps_per_epoch, epochs, verbose, callbacks, validation_data, validation_steps, class_weight, max_queue_size, workers, use_multiprocessing, shuffle, initial_epoch, mode, batch_size, **kwargs)\u001b[0m\n\u001b[1;32m    189\u001b[0m       \u001b[0mprogbar\u001b[0m\u001b[0;34m.\u001b[0m\u001b[0mon_batch_begin\u001b[0m\u001b[0;34m(\u001b[0m\u001b[0mstep\u001b[0m\u001b[0;34m,\u001b[0m \u001b[0mbatch_logs\u001b[0m\u001b[0;34m)\u001b[0m\u001b[0;34m\u001b[0m\u001b[0;34m\u001b[0m\u001b[0m\n\u001b[1;32m    190\u001b[0m \u001b[0;34m\u001b[0m\u001b[0m\n\u001b[0;32m--> 191\u001b[0;31m       \u001b[0mbatch_outs\u001b[0m \u001b[0;34m=\u001b[0m \u001b[0mbatch_function\u001b[0m\u001b[0;34m(\u001b[0m\u001b[0;34m*\u001b[0m\u001b[0mbatch_data\u001b[0m\u001b[0;34m)\u001b[0m\u001b[0;34m\u001b[0m\u001b[0;34m\u001b[0m\u001b[0m\n\u001b[0m\u001b[1;32m    192\u001b[0m       \u001b[0;32mif\u001b[0m \u001b[0;32mnot\u001b[0m \u001b[0misinstance\u001b[0m\u001b[0;34m(\u001b[0m\u001b[0mbatch_outs\u001b[0m\u001b[0;34m,\u001b[0m \u001b[0mlist\u001b[0m\u001b[0;34m)\u001b[0m\u001b[0;34m:\u001b[0m\u001b[0;34m\u001b[0m\u001b[0;34m\u001b[0m\u001b[0m\n\u001b[1;32m    193\u001b[0m         \u001b[0mbatch_outs\u001b[0m \u001b[0;34m=\u001b[0m \u001b[0;34m[\u001b[0m\u001b[0mbatch_outs\u001b[0m\u001b[0;34m]\u001b[0m\u001b[0;34m\u001b[0m\u001b[0;34m\u001b[0m\u001b[0m\n",
      "\u001b[0;32m~/anaconda3/envs/tf-cpu/lib/python3.6/site-packages/tensorflow/python/keras/engine/training.py\u001b[0m in \u001b[0;36mtrain_on_batch\u001b[0;34m(self, x, y, sample_weight, class_weight, reset_metrics)\u001b[0m\n\u001b[1;32m   1189\u001b[0m       \u001b[0;32melse\u001b[0m\u001b[0;34m:\u001b[0m\u001b[0;34m\u001b[0m\u001b[0;34m\u001b[0m\u001b[0m\n\u001b[1;32m   1190\u001b[0m         \u001b[0mself\u001b[0m\u001b[0;34m.\u001b[0m\u001b[0m_make_fit_function\u001b[0m\u001b[0;34m(\u001b[0m\u001b[0;34m)\u001b[0m\u001b[0;34m\u001b[0m\u001b[0;34m\u001b[0m\u001b[0m\n\u001b[0;32m-> 1191\u001b[0;31m         \u001b[0moutputs\u001b[0m \u001b[0;34m=\u001b[0m \u001b[0mself\u001b[0m\u001b[0;34m.\u001b[0m\u001b[0m_fit_function\u001b[0m\u001b[0;34m(\u001b[0m\u001b[0mins\u001b[0m\u001b[0;34m)\u001b[0m  \u001b[0;31m# pylint: disable=not-callable\u001b[0m\u001b[0;34m\u001b[0m\u001b[0;34m\u001b[0m\u001b[0m\n\u001b[0m\u001b[1;32m   1192\u001b[0m \u001b[0;34m\u001b[0m\u001b[0m\n\u001b[1;32m   1193\u001b[0m     \u001b[0;32mif\u001b[0m \u001b[0mreset_metrics\u001b[0m\u001b[0;34m:\u001b[0m\u001b[0;34m\u001b[0m\u001b[0;34m\u001b[0m\u001b[0m\n",
      "\u001b[0;32m~/anaconda3/envs/tf-cpu/lib/python3.6/site-packages/tensorflow/python/keras/backend.py\u001b[0m in \u001b[0;36m__call__\u001b[0;34m(self, inputs)\u001b[0m\n\u001b[1;32m   3074\u001b[0m \u001b[0;34m\u001b[0m\u001b[0m\n\u001b[1;32m   3075\u001b[0m     fetched = self._callable_fn(*array_vals,\n\u001b[0;32m-> 3076\u001b[0;31m                                 run_metadata=self.run_metadata)\n\u001b[0m\u001b[1;32m   3077\u001b[0m     \u001b[0mself\u001b[0m\u001b[0;34m.\u001b[0m\u001b[0m_call_fetch_callbacks\u001b[0m\u001b[0;34m(\u001b[0m\u001b[0mfetched\u001b[0m\u001b[0;34m[\u001b[0m\u001b[0;34m-\u001b[0m\u001b[0mlen\u001b[0m\u001b[0;34m(\u001b[0m\u001b[0mself\u001b[0m\u001b[0;34m.\u001b[0m\u001b[0m_fetches\u001b[0m\u001b[0;34m)\u001b[0m\u001b[0;34m:\u001b[0m\u001b[0;34m]\u001b[0m\u001b[0;34m)\u001b[0m\u001b[0;34m\u001b[0m\u001b[0;34m\u001b[0m\u001b[0m\n\u001b[1;32m   3078\u001b[0m     return nest.pack_sequence_as(self._outputs_structure,\n",
      "\u001b[0;32m~/anaconda3/envs/tf-cpu/lib/python3.6/site-packages/tensorflow/python/client/session.py\u001b[0m in \u001b[0;36m__call__\u001b[0;34m(self, *args, **kwargs)\u001b[0m\n\u001b[1;32m   1437\u001b[0m           ret = tf_session.TF_SessionRunCallable(\n\u001b[1;32m   1438\u001b[0m               \u001b[0mself\u001b[0m\u001b[0;34m.\u001b[0m\u001b[0m_session\u001b[0m\u001b[0;34m.\u001b[0m\u001b[0m_session\u001b[0m\u001b[0;34m,\u001b[0m \u001b[0mself\u001b[0m\u001b[0;34m.\u001b[0m\u001b[0m_handle\u001b[0m\u001b[0;34m,\u001b[0m \u001b[0margs\u001b[0m\u001b[0;34m,\u001b[0m \u001b[0mstatus\u001b[0m\u001b[0;34m,\u001b[0m\u001b[0;34m\u001b[0m\u001b[0;34m\u001b[0m\u001b[0m\n\u001b[0;32m-> 1439\u001b[0;31m               run_metadata_ptr)\n\u001b[0m\u001b[1;32m   1440\u001b[0m         \u001b[0;32mif\u001b[0m \u001b[0mrun_metadata\u001b[0m\u001b[0;34m:\u001b[0m\u001b[0;34m\u001b[0m\u001b[0;34m\u001b[0m\u001b[0m\n\u001b[1;32m   1441\u001b[0m           \u001b[0mproto_data\u001b[0m \u001b[0;34m=\u001b[0m \u001b[0mtf_session\u001b[0m\u001b[0;34m.\u001b[0m\u001b[0mTF_GetBuffer\u001b[0m\u001b[0;34m(\u001b[0m\u001b[0mrun_metadata_ptr\u001b[0m\u001b[0;34m)\u001b[0m\u001b[0;34m\u001b[0m\u001b[0;34m\u001b[0m\u001b[0m\n",
      "\u001b[0;31mKeyboardInterrupt\u001b[0m: "
     ]
    }
   ],
   "source": [
    "train_data = make_generator(train_data_list)\n",
    "validation_data_gen = make_generator(test_data_list)\n",
    "model.fit_generator(train_data, \n",
    "                    epochs=1, \n",
    "                    steps_per_epoch = train_data_length, \n",
    "                    validation_data = validation_data_gen, \n",
    "                    validation_steps=test_data_length,\n",
    "                    callbacks=callbacks_list)"
   ]
  },
  {
   "cell_type": "code",
   "execution_count": 17,
   "metadata": {
    "scrolled": true
   },
   "outputs": [
    {
     "name": "stdout",
     "output_type": "stream",
     "text": [
      "['नेपाली', 'साहित्य', 'को', 'ऐतिहासिक', 'परिचय'] ['JX', 'NN', 'IKM', 'JX', 'NN']\n",
      "['डा.', 'तारानाथ', 'शमार्'] ['FB', 'NP', 'NN']\n",
      "['प्रकाशक', ':', 'साझा', 'प्रकाशन'] ['NN', 'YM', 'JX', 'NN']\n",
      "['संस्करण', ':', 'पहिलो', '२०२९', ',', 'दोस्रो', '२०४०', '(', 'श्याम', 'पुस्तक', 'भण्डार', ')'] ['NN', 'YM', 'MOM', 'MM', 'YM', 'MOM', 'MM', 'YB', 'NP', 'NN', 'NN', 'YB']\n",
      "['तेस्रो', '२०६३'] ['MM', 'MM']\n",
      "['(', 'साझा', 'प्रकाशन', 'बाट', 'पहिलो', ',', '११००', 'प्रति', ')'] ['YB', 'JX', 'NN', 'II', 'MOM', 'YM', 'MM', 'II', 'YB']\n",
      "['आवरणकला', ':', 'टेकवीर', 'मुखिया'] ['NN', 'YM', 'NN', 'NN']\n",
      "['मूल्य', ':', 'रु.'] ['NN', 'YM', 'FB']\n",
      "['मुद्रक', ':', 'साझा', 'प्रकाशन', 'को', 'छापाखाना', ',', 'पुलचोक', ',', 'ललितपुर'] ['NP', 'YM', 'JX', 'NN', 'IKM', 'NN', 'YM', 'NN', 'YM', 'NP']\n",
      "['फोन', '५५२१०२३'] ['NN', 'MM']\n",
      "['क्ष्क्द्यल्', 'स्', 'ढढढघघ', '(', 'द्द', '(', 'द्धटज्ञ', '(', 'द्द'] ['NN', 'NN', 'NN', 'YB', 'NN', 'YB', 'NN', 'YB', 'NN']\n",
      "['यस', 'पुस्तक', 'का', 'विषय', 'मा'] ['DDX', 'NN', 'IKO', 'NN', 'II']\n",
      "['यो', 'पुस्तक', \"'\", 'नेपाली', 'साहित्य', 'को', 'इतिहास', \"'\", 'लाई', 'छोटो', 'पारेर', 'लेखिए', 'को', 'संक्षिप्त', 'संस्करण', 'होइन', '।'] ['DDX', 'NN', 'YQ', 'JX', 'NN', 'IKM', 'NN', 'YQ', 'IA', 'JM', 'VQ', 'VE', 'IKM', 'JX', 'NN', 'VVYN1', 'YF']\n",
      "['फेद', 'देखि', 'पुछार', 'सम्म', 'नै', 'यस', 'लाई', 'नयाँ', 'प्रकार', 'ले', 'लेखिए', 'को', 'छ', '।'] ['NN', 'II', 'RR', 'II', 'TT', 'DDX', 'IA', 'JX', 'NN', 'IE', 'VE', 'IKM', 'VVYN1', 'YF']\n",
      "['यस', 'पुस्तक', 'को', 'योजना', 'पनि', 'नयाँ', 'छ', '।'] ['DDX', 'NN', 'IKM', 'NN', 'TT', 'JX', 'VVYN1', 'YF']\n",
      "['यस', 'मा', 'कालविभाजन', 'लाई', 'मह338व', 'दिइए', 'को', 'छैन', '।'] ['DDX', 'II', 'NN', 'IA', 'FO', 'VE', 'IKM', 'VVYN1', 'YF']\n"
     ]
    }
   ],
   "source": [
    "x , y = [], []\n",
    "i = 0\n",
    "for a,b in make_generator(test_data_list, print_data=True):\n",
    "    x = a\n",
    "    y = b\n",
    "    if i == 15:\n",
    "        break\n",
    "    i = i + 1"
   ]
  },
  {
   "cell_type": "code",
   "execution_count": 36,
   "metadata": {},
   "outputs": [
    {
     "data": {
      "text/plain": [
       "14"
      ]
     },
     "execution_count": 36,
     "metadata": {},
     "output_type": "execute_result"
    }
   ],
   "source": [
    "len(['फेद', 'देखि', 'पुछार', 'सम्म', 'नै', 'यस', 'लाई', 'नयाँ', 'प्रकार', 'ले', 'लेखिए', 'को', 'छ', '।'])"
   ]
  },
  {
   "cell_type": "code",
   "execution_count": null,
   "metadata": {},
   "outputs": [],
   "source": [
    "sent = words_encode(['फेद', 'देखि', 'पुछार', 'सम्म', 'नै', 'यस', 'लाई', 'नयाँ', 'प्रकार', 'ले', 'लेखिए', 'को', 'छ', '।'] )\n",
    "# e_tags = tags_encode(['CC', 'NP', 'IKM', 'NN', 'II', 'NN', 'IKM', 'DKX', 'NN', 'TT', 'VVYN1', 'YF'], ts_sc_tags2num, SEQ_LENGTH)\n",
    "prediction = model.predict(sent).argmax(axis=2)\n",
    "prediction\n",
    "print(tags_decode(prediction[0], ts_sc_num2tags))\n",
    "# prediction.shape\n",
    "# print(len(sent))"
   ]
  },
  {
   "cell_type": "code",
   "execution_count": 55,
   "metadata": {},
   "outputs": [
    {
     "data": {
      "text/plain": [
       "(3, 100)"
      ]
     },
     "execution_count": 55,
     "metadata": {},
     "output_type": "execute_result"
    }
   ],
   "source": [
    "nep2vec.wv['अब', 'बाटो', 'खोज्न'].shape"
   ]
  },
  {
   "cell_type": "code",
   "execution_count": 70,
   "metadata": {},
   "outputs": [
    {
     "data": {
      "text/plain": [
       "array([[0., 0., 0., 0., 0., 0., 0., 0., 0., 0., 0., 0., 0., 0., 0., 0.,\n",
       "        0., 0., 0., 0., 0., 0., 0., 0., 0., 0., 0., 0., 0., 0., 0., 0.,\n",
       "        0., 0., 0., 0., 0., 0., 0., 0., 0., 0., 0., 0., 0., 0., 0., 0.,\n",
       "        0., 0., 0., 0., 0., 0., 0., 0., 0., 0., 0., 0., 0., 0., 0., 0.,\n",
       "        0., 0., 0., 0., 0., 0., 0., 0., 0., 0., 0., 0., 0., 0., 0., 0.,\n",
       "        0., 0., 0., 0., 0., 0., 0., 0., 0., 0., 0., 0., 0., 0., 0., 0.,\n",
       "        0., 0., 0., 0.]])"
      ]
     },
     "execution_count": 70,
     "metadata": {},
     "output_type": "execute_result"
    }
   ],
   "source": [
    "e_sentences[:,6,:]"
   ]
  },
  {
   "cell_type": "code",
   "execution_count": null,
   "metadata": {},
   "outputs": [],
   "source": []
  }
 ],
 "metadata": {
  "kernelspec": {
   "display_name": "Python 3",
   "language": "python",
   "name": "python3"
  },
  "language_info": {
   "codemirror_mode": {
    "name": "ipython",
    "version": 3
   },
   "file_extension": ".py",
   "mimetype": "text/x-python",
   "name": "python",
   "nbconvert_exporter": "python",
   "pygments_lexer": "ipython3",
   "version": "3.6.7"
  }
 },
 "nbformat": 4,
 "nbformat_minor": 2
}
