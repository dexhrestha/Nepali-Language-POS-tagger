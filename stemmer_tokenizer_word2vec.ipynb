{
 "cells": [
  {
   "cell_type": "code",
   "execution_count": 1,
   "metadata": {},
   "outputs": [],
   "source": [
    "with open('dataset/article_dump.txt') as a:\n",
    "    articles = a.read().splitlines()\n",
    "    \n",
    "from nlp_processor import Tokenizer, Stemmer\n",
    "import re"
   ]
  },
  {
   "cell_type": "code",
   "execution_count": 2,
   "metadata": {
    "scrolled": true
   },
   "outputs": [],
   "source": [
    "tokenizer = Tokenizer()\n",
    "stemmer = Stemmer()"
   ]
  },
  {
   "cell_type": "code",
   "execution_count": 3,
   "metadata": {},
   "outputs": [
    {
     "data": {
      "text/plain": [
       "1000"
      ]
     },
     "execution_count": 3,
     "metadata": {},
     "output_type": "execute_result"
    }
   ],
   "source": [
    "len(articles)"
   ]
  },
  {
   "cell_type": "code",
   "execution_count": 4,
   "metadata": {},
   "outputs": [
    {
     "data": {
      "text/plain": [
       "['अमेरिकी',\n",
       " 'प्रख्यात',\n",
       " 'कूटनीतिज्ञ',\n",
       " 'हेनरी',\n",
       " 'किसिन्जरले',\n",
       " 'आफ्नो',\n",
       " 'किताब',\n",
       " 'बल्र्ड',\n",
       " 'अडर',\n",
       " 'मा']"
      ]
     },
     "execution_count": 4,
     "metadata": {},
     "output_type": "execute_result"
    }
   ],
   "source": [
    "tokenized_corpus = tokenizer.tokenize_corpus(articles)\n",
    "tokenized_corpus[0][0:10]"
   ]
  },
  {
   "cell_type": "code",
   "execution_count": 5,
   "metadata": {},
   "outputs": [
    {
     "data": {
      "text/plain": [
       "['अमेरिक',\n",
       " 'प्रख्यात',\n",
       " 'कुटनीतिज्ञ',\n",
       " 'हेनर',\n",
       " 'किसिन्जर',\n",
       " 'आफ्नो',\n",
       " 'किताब',\n",
       " 'बल्र्ड',\n",
       " 'अडर',\n",
       " 'मा']"
      ]
     },
     "execution_count": 5,
     "metadata": {},
     "output_type": "execute_result"
    }
   ],
   "source": [
    "stemmed_corpus = stemmer.stem_corpus(tokenized_corpus)\n",
    "stemmed_corpus[0][0:10]"
   ]
  },
  {
   "cell_type": "code",
   "execution_count": 6,
   "metadata": {},
   "outputs": [
    {
     "name": "stderr",
     "output_type": "stream",
     "text": [
      "paramiko missing, opening SSH/SCP/SFTP paths will be disabled.  `pip install paramiko` to suppress\n"
     ]
    }
   ],
   "source": [
    "from gensim.models import Word2Vec as w2v\n",
    "import multiprocessing"
   ]
  },
  {
   "cell_type": "code",
   "execution_count": 7,
   "metadata": {},
   "outputs": [],
   "source": [
    "nep2vec = w2v(stemmed_corpus, \n",
    "                       size=300, \n",
    "                       window=8, \n",
    "                       min_count=2, \n",
    "                       workers= multiprocessing.cpu_count())"
   ]
  },
  {
   "cell_type": "code",
   "execution_count": 8,
   "metadata": {},
   "outputs": [
    {
     "data": {
      "text/plain": [
       "(50029337, 57235500)"
      ]
     },
     "execution_count": 8,
     "metadata": {},
     "output_type": "execute_result"
    }
   ],
   "source": [
    "nep2vec.train(stemmed_corpus, total_examples=len(stemmed_corpus), epochs=50)"
   ]
  },
  {
   "cell_type": "code",
   "execution_count": 9,
   "metadata": {},
   "outputs": [
    {
     "data": {
      "text/plain": [
       "[('कार्यक्रम', 0.4737165570259094),\n",
       " ('तर्जु', 0.3880254924297333),\n",
       " ('कार्यक्रमहरू', 0.3717462718486786),\n",
       " ('बजेट', 0.31624120473861694),\n",
       " ('बुदा', 0.29696857929229736),\n",
       " ('अभिया', 0.29463139176368713),\n",
       " ('भुउपयोग', 0.2944021224975586),\n",
       " ('कार्ययोजना', 0.29210638999938965),\n",
       " ('यथासम्भब', 0.2877410054206848),\n",
       " ('अर्थमन्त्री', 0.2853192090988159)]"
      ]
     },
     "execution_count": 9,
     "metadata": {},
     "output_type": "execute_result"
    }
   ],
   "source": [
    "nep2vec.wv.most_similar(positive=stemmer.stem_word('कार्यक्रम'))"
   ]
  },
  {
   "cell_type": "code",
   "execution_count": 10,
   "metadata": {},
   "outputs": [],
   "source": [
    "# nep2vec.save('w2vmodel')"
   ]
  }
 ],
 "metadata": {
  "kernelspec": {
   "display_name": "Python 3",
   "language": "python",
   "name": "python3"
  },
  "language_info": {
   "codemirror_mode": {
    "name": "ipython",
    "version": 3
   },
   "file_extension": ".py",
   "mimetype": "text/x-python",
   "name": "python",
   "nbconvert_exporter": "python",
   "pygments_lexer": "ipython3",
   "version": "3.6.8"
  }
 },
 "nbformat": 4,
 "nbformat_minor": 2
}
